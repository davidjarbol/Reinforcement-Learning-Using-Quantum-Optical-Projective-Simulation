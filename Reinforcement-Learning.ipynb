{
  "cells": [
    {
      "cell_type": "markdown",
      "metadata": {
        "id": "Baqgqd-Q7uTY"
      },
      "source": [
        "# Hackathon challenge code\n",
        "## Reinforcement Learning with Projective Simulation for path-finding problems\n",
        "\n",
        "\n",
        "In this notebook, we provide code to help you start this challenge. The notebook has the following information:\n",
        " 1. *Grid enviroment*. Here, a class grid is formed according to the given structure.\n",
        " 2. *Quantum agent*. The agent uses a tree to make the decision and this is translated to quantum optics making use of modes and beam splitters. There, a class for shapping and handling tree is defined. Check the references for more.\n",
        " 3. *Loss function*. We provide the full loss function already.\n",
        " 4. *Test*"
      ]
    },
    {
      "cell_type": "code",
      "execution_count": 16,
      "metadata": {
        "colab": {
          "base_uri": "https://localhost:8080/"
        },
        "id": "9uR0DEF8-1Vo",
        "outputId": "72e051da-5f55-40c5-de74-4af83a60d999"
      },
      "outputs": [
        {
          "name": "stdout",
          "output_type": "stream",
          "text": [
            "Python 3.10.12\n"
          ]
        }
      ],
      "source": [
        "!python --version"
      ]
    },
    {
      "cell_type": "code",
      "execution_count": 17,
      "metadata": {
        "colab": {
          "base_uri": "https://localhost:8080/"
        },
        "id": "285-Jp2h7uUk",
        "outputId": "6f0e2c1c-9420-4feb-e8ba-6d07200806fd"
      },
      "outputs": [
        {
          "name": "stdout",
          "output_type": "stream",
          "text": [
            "Requirement already satisfied: perceval-quandela in /usr/local/lib/python3.10/dist-packages (0.10.4)\n",
            "Requirement already satisfied: sympy in /usr/local/lib/python3.10/dist-packages (from perceval-quandela) (1.12)\n",
            "Requirement already satisfied: numpy in /usr/local/lib/python3.10/dist-packages (from perceval-quandela) (1.25.2)\n",
            "Requirement already satisfied: scipy in /usr/local/lib/python3.10/dist-packages (from perceval-quandela) (1.11.4)\n",
            "Requirement already satisfied: tabulate in /usr/local/lib/python3.10/dist-packages (from perceval-quandela) (0.9.0)\n",
            "Requirement already satisfied: matplotlib in /usr/local/lib/python3.10/dist-packages (from perceval-quandela) (3.7.1)\n",
            "Requirement already satisfied: exqalibur~=0.3.1 in /usr/local/lib/python3.10/dist-packages (from perceval-quandela) (0.3.1)\n",
            "Requirement already satisfied: multipledispatch in /usr/local/lib/python3.10/dist-packages (from perceval-quandela) (1.0.0)\n",
            "Requirement already satisfied: protobuf>=3.20.3 in /usr/local/lib/python3.10/dist-packages (from perceval-quandela) (3.20.3)\n",
            "Requirement already satisfied: drawsvg>=2.0 in /usr/local/lib/python3.10/dist-packages (from perceval-quandela) (2.3.0)\n",
            "Requirement already satisfied: Deprecated in /usr/local/lib/python3.10/dist-packages (from perceval-quandela) (1.2.14)\n",
            "Requirement already satisfied: requests in /usr/local/lib/python3.10/dist-packages (from perceval-quandela) (2.31.0)\n",
            "Requirement already satisfied: networkx~=3.1 in /usr/local/lib/python3.10/dist-packages (from perceval-quandela) (3.3)\n",
            "Requirement already satisfied: latexcodec in /usr/local/lib/python3.10/dist-packages (from perceval-quandela) (3.0.0)\n",
            "Requirement already satisfied: platformdirs in /usr/local/lib/python3.10/dist-packages (from perceval-quandela) (4.2.0)\n",
            "Requirement already satisfied: wrapt<2,>=1.10 in /usr/local/lib/python3.10/dist-packages (from Deprecated->perceval-quandela) (1.14.1)\n",
            "Requirement already satisfied: contourpy>=1.0.1 in /usr/local/lib/python3.10/dist-packages (from matplotlib->perceval-quandela) (1.2.1)\n",
            "Requirement already satisfied: cycler>=0.10 in /usr/local/lib/python3.10/dist-packages (from matplotlib->perceval-quandela) (0.12.1)\n",
            "Requirement already satisfied: fonttools>=4.22.0 in /usr/local/lib/python3.10/dist-packages (from matplotlib->perceval-quandela) (4.51.0)\n",
            "Requirement already satisfied: kiwisolver>=1.0.1 in /usr/local/lib/python3.10/dist-packages (from matplotlib->perceval-quandela) (1.4.5)\n",
            "Requirement already satisfied: packaging>=20.0 in /usr/local/lib/python3.10/dist-packages (from matplotlib->perceval-quandela) (24.0)\n",
            "Requirement already satisfied: pillow>=6.2.0 in /usr/local/lib/python3.10/dist-packages (from matplotlib->perceval-quandela) (9.4.0)\n",
            "Requirement already satisfied: pyparsing>=2.3.1 in /usr/local/lib/python3.10/dist-packages (from matplotlib->perceval-quandela) (3.1.2)\n",
            "Requirement already satisfied: python-dateutil>=2.7 in /usr/local/lib/python3.10/dist-packages (from matplotlib->perceval-quandela) (2.8.2)\n",
            "Requirement already satisfied: charset-normalizer<4,>=2 in /usr/local/lib/python3.10/dist-packages (from requests->perceval-quandela) (3.3.2)\n",
            "Requirement already satisfied: idna<4,>=2.5 in /usr/local/lib/python3.10/dist-packages (from requests->perceval-quandela) (3.7)\n",
            "Requirement already satisfied: urllib3<3,>=1.21.1 in /usr/local/lib/python3.10/dist-packages (from requests->perceval-quandela) (2.0.7)\n",
            "Requirement already satisfied: certifi>=2017.4.17 in /usr/local/lib/python3.10/dist-packages (from requests->perceval-quandela) (2024.2.2)\n",
            "Requirement already satisfied: mpmath>=0.19 in /usr/local/lib/python3.10/dist-packages (from sympy->perceval-quandela) (1.3.0)\n",
            "Requirement already satisfied: six>=1.5 in /usr/local/lib/python3.10/dist-packages (from python-dateutil>=2.7->matplotlib->perceval-quandela) (1.16.0)\n"
          ]
        }
      ],
      "source": [
        "import numpy as np\n",
        "import matplotlib.pyplot as plt\n",
        "import random\n",
        "!pip install perceval-quandela\n",
        "import perceval as pcvl"
      ]
    },
    {
      "cell_type": "markdown",
      "metadata": {
        "id": "Hpis06pz7uUo"
      },
      "source": [
        "### Grid Environment\n",
        "\n",
        "Defining a grid given the constraints: size, obstacles, starting point and others. Here, the class \"Grid\" makes the environment for our problem. The grid is a 2D array of dim $n\\times n$, with each element being a cell and defined by a tuple $(x,y)$, where $x$ and $y$ are the coordinates of the cell.\n",
        "\n",
        "The following methods are defined:\n",
        "1. \\_\\_init\\_\\_(self, n, start, end, n_not_allowed, wall=None, max_steps=None) with arguments:\n",
        "    * n: the dimension of the grid;\n",
        "    * start: the starting cell, default is $(0,0)$, bottom left corner;\n",
        "    * end: the ending cell, default is $(n-1,n-1)$, top right corner;\n",
        "    * n_not_allowed: the number of cells that are not allowed to be visited, default is $0$, meaning all cells are allowed to be visited, if $n\\_not\\_allowed > 0$, then $n\\_not\\_allowed$ cells will be selected and not allowed to be visited;\n",
        "    * wall: if None, then the $n\\_not\\_allowed$ cells will be randomly selected, if not None, it should be a list of tuples, each tuple is a cell that is not allowed to be visited;\n",
        "    * max_steps: the maximum number of steps allowed, default is None, set $2*n$.\n",
        "2. step(self, action, verbose=False):\n",
        "    * action: the action taken by the agent, can be right or up;\n",
        "    * verbose: if True, print out the current state, action, next state, reward, and done;\n",
        "    * return: the next state, reward, and done.\n",
        "    *  *next state*: the next cell the agent is in same as the current state if the agent hits the wall or not allowed cell.\n",
        "    *  *reward*: reward of 0 for each step, +1 for reaching the end.\n",
        "    *  *done*: True if the agent reaches the end or reaches the max number of steps, False otherwise.\n",
        "3. reset(self):\n",
        "    reset the agent to the starting cell and reward to 0 and done to False and step to 0.\n",
        "4. render(self):\n",
        "    render the grid, with the agent in the current cell, and the path taken so far."
      ]
    },
    {
      "cell_type": "code",
      "execution_count": 33,
      "metadata": {
        "id": "Wn6ha23C7uUr"
      },
      "outputs": [],
      "source": [
        "class Grid():\n",
        "    def __init__(self, n, start=(0,0), end=None, n_not_allowed=0, wall=None, max_steps=None):\n",
        "        self.n = n\n",
        "        self.start = start\n",
        "        self.end = (n-1,n-1) if end is None else end\n",
        "        if wall is None and n_not_allowed > 0:\n",
        "            # generate n_not_allowed random cells\n",
        "            self.wall = []\n",
        "            for i in range(n_not_allowed):\n",
        "                x = np.random.randint(0,n)\n",
        "                y = np.random.randint(0,n)\n",
        "                # make sure the random cell is not already in the list or the start or end cell\n",
        "                while (x,y) in self.wall or (x,y) == self.start or (x,y) == self.end:\n",
        "                    x = np.random.randint(0,n)\n",
        "                    y = np.random.randint(0,n)\n",
        "                self.wall.append((x,y))\n",
        "        else:\n",
        "            self.wall = wall\n",
        "        self.av_states = []\n",
        "        for i in range(n):\n",
        "            for j in range(n):\n",
        "                if not ((i, j) in self.wall or (i, j) == self.end):\n",
        "                    self.av_states.append((i, j))\n",
        "        self.max_steps = 2*n if max_steps is None else max_steps\n",
        "        self.reset()\n",
        "\n",
        "    def step(self, action, verbose=False):\n",
        "        wall_flag = False\n",
        "        if action == 'right':\n",
        "            next_state = (self.state[0]+1, self.state[1])\n",
        "        elif action == 'up':\n",
        "            next_state = (self.state[0], self.state[1]+1) # ADD HERE LEFT AND DOWN ________________________________________\n",
        "        elif action=='down':\n",
        "            next_state = (self.state[0], self.state[1]-1)\n",
        "        elif action == 'left':\n",
        "            next_state = (self.state[0]-1, self.state[1])\n",
        "        else:\n",
        "            raise ValueError('action must be right, up, left or down')\n",
        "        if next_state[1] >= self.n or next_state[0] >= self.n or next_state[1] < 0 or next_state[0] < 0:\n",
        "            next_state = self.state\n",
        "            wall_flag = True\n",
        "        elif next_state in self.wall:\n",
        "            next_state = self.state\n",
        "            wall_flag = True\n",
        "        total_state = self.state\n",
        "        self.state = next_state\n",
        "        self.step_count += 1\n",
        "        if self.state == self.end:\n",
        "            reward = 10\n",
        "            self.done = True\n",
        "        elif self.step_count >= self.max_steps:\n",
        "            reward = -1\n",
        "            self.done = True\n",
        "        else:\n",
        "            reward= 0 if not wall_flag else -20\n",
        "            self.done = False\n",
        "        self.total_path.append(self.state)\n",
        "        self.path_actions.append(action)\n",
        "        if verbose:\n",
        "            print('state: {}, action: {}, next_state: {}, reward: {}, done: {}'.format(total_state, action, next_state, reward, self.done))\n",
        "        return next_state, reward, self.done\n",
        "\n",
        "    def reset(self):\n",
        "        self.state = self.start\n",
        "        self.step_count = 0\n",
        "        self.reward = 0\n",
        "        self.done = False\n",
        "        self.total_path = []\n",
        "        self.total_path.append(self.state)\n",
        "        self.path_actions = []\n",
        "\n",
        "    def render(self, path=None):\n",
        "        grid = np.zeros((self.n,self.n))\n",
        "        for i in range(self.n):\n",
        "            for j in range(self.n):\n",
        "                if (i,j) in self.wall:\n",
        "                    grid[j,i] = -1\n",
        "        grid[self.start[1],self.start[0]] = 0.25\n",
        "        grid[self.end[1],self.end[0]] = 0.25\n",
        "        if path is None:\n",
        "            path = self.total_path\n",
        "            state = self.state\n",
        "        else:\n",
        "            state = path[-1]\n",
        "        grid[state[1],state[0]] = 1\n",
        "        for i in range(len(path)-1)[1:]:\n",
        "            grid[path[i][1],path[i][0]] = 0.5\n",
        "        # grid is upside down, so flip it both horizontally and vertically\n",
        "        grid = np.flip(grid, axis=0)\n",
        "        # transpose it\n",
        "        #grid = np.transpose(grid)\n",
        "        plt.imshow(grid, cmap='gray')\n",
        "        plt.xticks([])\n",
        "        plt.yticks([])\n",
        "        plt.show()"
      ]
    },
    {
      "cell_type": "markdown",
      "metadata": {
        "id": "XnrPg_3Z7uUt"
      },
      "source": [
        "Giving it a test for a given wall and plotting it. The number of steps here is set to $9$. Adjust it to the needs of your algorithm."
      ]
    },
    {
      "cell_type": "code",
      "execution_count": 36,
      "metadata": {
        "colab": {
          "base_uri": "https://localhost:8080/",
          "height": 406
        },
        "id": "RVY3C_Tf7uUu",
        "outputId": "a11b55ac-04cd-461f-adc8-265a80e331fa"
      },
      "outputs": [
        {
          "data": {
            "image/png": "[encoded data removed]",
            "text/plain": [
              "<Figure size 640x480 with 1 Axes>"
            ]
          },
          "metadata": {},
          "output_type": "display_data"
        }
      ],
      "source": [
        "first_wall = [(1, 2), (2, 2), (1, 0), (3, 2), (2, 4)]\n",
        "# test trial of the env with random agent\n",
        "env = Grid(5, n_not_allowed=5, wall=first_wall, max_steps=9)\n",
        "env.render()"
      ]
    },
    {
      "cell_type": "markdown",
      "metadata": {
        "id": "pxHBcEvP7uUw"
      },
      "source": [
        "Testing a random path."
      ]
    },
    {
      "cell_type": "code",
      "execution_count": 37,
      "metadata": {
        "colab": {
          "base_uri": "https://localhost:8080/"
        },
        "id": "gmicE9p_7uUx",
        "outputId": "10f004be-5597-423e-a38a-e2ac6b4ec204"
      },
      "outputs": [
        {
          "name": "stdout",
          "output_type": "stream",
          "text": [
            "state: (0, 0), action: down, next_state: (0, 0), reward: -20, done: False\n",
            "state: (0, 0), action: right, next_state: (0, 0), reward: -20, done: False\n",
            "state: (0, 0), action: down, next_state: (0, 0), reward: -20, done: False\n",
            "state: (0, 0), action: up, next_state: (0, 1), reward: 0, done: False\n",
            "state: (0, 1), action: up, next_state: (0, 2), reward: 0, done: False\n",
            "state: (0, 2), action: right, next_state: (0, 2), reward: -20, done: False\n",
            "state: (0, 2), action: right, next_state: (0, 2), reward: -20, done: False\n",
            "state: (0, 2), action: left, next_state: (0, 2), reward: -20, done: False\n",
            "state: (0, 2), action: right, next_state: (0, 2), reward: -1, done: True\n"
          ]
        }
      ],
      "source": [
        "for i in range(50):\n",
        "    action = random.choice(['right','up','left','down'])\n",
        "    next_state, reward, done = env.step(action, verbose=True)\n",
        "    if done:\n",
        "        break"
      ]
    },
    {
      "cell_type": "code",
      "execution_count": 38,
      "metadata": {
        "colab": {
          "base_uri": "https://localhost:8080/"
        },
        "id": "YfY2x6ZEcA6Q",
        "outputId": "ff6b4655-e7cb-4f63-8abf-7b240646576d"
      },
      "outputs": [
        {
          "name": "stdout",
          "output_type": "stream",
          "text": [
            "Cell at position (0, 0): Start\n",
            "Cell at position (0, 1): Empty\n",
            "Cell at position (0, 2): Empty\n",
            "Cell at position (0, 3): Empty\n",
            "Cell at position (0, 4): Wall\n",
            "Cell at position (1, 0): Empty\n",
            "Cell at position (1, 1): Empty\n",
            "Cell at position (1, 2): Empty\n",
            "Cell at position (1, 3): Empty\n",
            "Cell at position (1, 4): Empty\n",
            "Cell at position (2, 0): Empty\n",
            "Cell at position (2, 1): Empty\n",
            "Cell at position (2, 2): Empty\n",
            "Cell at position (2, 3): Wall\n",
            "Cell at position (2, 4): Empty\n",
            "Cell at position (3, 0): Wall\n",
            "Cell at position (3, 1): Empty\n",
            "Cell at position (3, 2): Empty\n",
            "Cell at position (3, 3): Empty\n",
            "Cell at position (3, 4): Empty\n",
            "Cell at position (4, 0): Empty\n",
            "Cell at position (4, 1): Wall\n",
            "Cell at position (4, 2): Empty\n",
            "Cell at position (4, 3): Wall\n",
            "Cell at position (4, 4): End\n",
            "Reward received: 0\n"
          ]
        }
      ],
      "source": [
        "# Create an instance of the Grid class with desired parameters\n",
        "grid_instance = Grid(n=5, start=(0, 0), end=(4, 4), n_not_allowed=5)\n",
        "\n",
        "# Iterate over all cells in the grid\n",
        "for i in range(grid_instance.n):\n",
        "    for j in range(grid_instance.n):\n",
        "        if (i, j) == grid_instance.start:\n",
        "            print(f\"Cell at position ({i}, {j}): Start\")\n",
        "        elif (i, j) == grid_instance.end:\n",
        "            print(f\"Cell at position ({i}, {j}): End\")\n",
        "        elif (i, j) in grid_instance.wall:\n",
        "            print(f\"Cell at position ({i}, {j}): Wall\")\n",
        "        else:\n",
        "            print(f\"Cell at position ({i}, {j}): Empty\")\n",
        "\n",
        "# Perform an action (e.g., move right)\n",
        "action = 'right'\n",
        "next_state, reward, done = grid_instance.step(action)\n",
        "\n",
        "# Print the reward received\n",
        "print(\"Reward received:\", reward)\n",
        "\n"
      ]
    },
    {
      "cell_type": "code",
      "execution_count": 40,
      "metadata": {
        "colab": {
          "base_uri": "https://localhost:8080/",
          "height": 406
        },
        "id": "2NhVVteA7uUy",
        "outputId": "0a2263a4-0114-4bae-e805-473c27c87409"
      },
      "outputs": [
        {
          "data": {
            "image/png": "[encoded data removed]",
            "text/plain": [
              "<Figure size 640x480 with 1 Axes>"
            ]
          },
          "metadata": {},
          "output_type": "display_data"
        }
      ],
      "source": [
        "env.render()\n",
        "#env.total_path\n",
        "#env.path_actions"
      ]
    },
    {
      "cell_type": "markdown",
      "metadata": {
        "id": "DQ0HuhgO7uUz"
      },
      "source": [
        "### Quantum agent\n",
        "\n",
        "Here the tree for the ECM graph is created to implement the quantum part of the algorithm."
      ]
    },
    {
      "cell_type": "code",
      "execution_count": null,
      "metadata": {
        "id": "ZVcY2ONP7uU0"
      },
      "outputs": [],
      "source": [
        "import perceval as pcvl\n",
        "from perceval.algorithm import Sampler\n",
        "from perceval.components.unitary_components import PS, BS\n",
        "\n",
        "## Use the symbolic skin for display\n",
        "from perceval.rendering.circuit import DisplayConfig, SymbSkin\n",
        "DisplayConfig.select_skin(SymbSkin)\n",
        "\n",
        "import matplotlib.pyplot as plt\n",
        "import numpy as np\n",
        "\n",
        "from tqdm.auto import tqdm #python library that displays the progress bar\n",
        "import random"
      ]
    },
    {
      "cell_type": "code",
      "execution_count": null,
      "metadata": {
        "id": "owfU3Xn3pbmW"
      },
      "outputs": [],
      "source": [
        "\n",
        "mzi = pcvl.Circuit(2) // BS() // (1,PS(phi=pcvl.P(\"phi\"))) // BS()\n",
        "pcvl.pdisplay(mzi)"
      ]
    },
    {
      "cell_type": "code",
      "execution_count": null,
      "metadata": {
        "id": "70JvQCPEzYwc"
      },
      "outputs": [],
      "source": []
    },
    {
      "cell_type": "code",
      "execution_count": null,
      "metadata": {
        "id": "9XaD3mI0tcvK"
      },
      "outputs": [],
      "source": [
        "circuit = pcvl.Circuit(4)\n",
        "circuit.add((1,2),BS()).add(2,PS(phi=pcvl.P(\"phi_11\"))).add((1,2),BS())\n",
        "circuit.add((0,1),BS()).add(1,PS(phi=pcvl.P(\"phi_21\"))).add((0,1),BS())\n",
        "circuit.add((2,3),BS()).add(3,PS(phi=pcvl.P(\"phi_22\"))).add((2,3),BS())\n",
        "\n",
        "\n",
        "pcvl.pdisplay(circuit)\n"
      ]
    },
    {
      "cell_type": "code",
      "execution_count": null,
      "metadata": {
        "id": "FKvgS9Dv_vYK"
      },
      "outputs": [],
      "source": [
        "        circuit = pcvl.Circuit(4)\n",
        "        circuit.add((1,2),BS()).add(1,PS(phi=pcvl.P(\"phi_11\"))).add((1,2),BS()).add(1,PS(phi=pcvl.P(\"phi_12\")))\n",
        "        circuit.add((0,1),BS()).add(0,PS(phi=pcvl.P(\"phi_21\"))).add((0,1),BS()).add(0,PS(phi=pcvl.P(\"phi_22\")))\n",
        "        circuit.add((2,3),BS()).add(2,PS(phi=pcvl.P(\"phi_31\"))).add((2,3),BS()).add(2,PS(phi=pcvl.P(\"phi_32\")))\n",
        "\n",
        "        pcvl.pdisplay(circuit)"
      ]
    },
    {
      "cell_type": "code",
      "execution_count": null,
      "metadata": {
        "id": "KmT8U4k4eO2r"
      },
      "outputs": [],
      "source": [
        "        circuit = pcvl.Circuit(2)\n",
        "        circuit.add((0,1),BS()).add(0,PS(phi=pcvl.P(\"phi_1\"))).add((0,1),BS()).add(0,PS(phi=pcvl.P(\"phi_2\")))\n",
        "\n",
        "pcvl.pdisplay(circuit)"
      ]
    },
    {
      "cell_type": "code",
      "execution_count": null,
      "metadata": {
        "id": "JR5iXDpKz-LQ"
      },
      "outputs": [],
      "source": [
        "circuit = pcvl.Circuit(2)\n",
        "circuit.add((0,1),BS()).add(1,PS(phi=pcvl.P(\"phi_11\"))).add((0,1),BS())\n",
        "pcvl.pdisplay(circuit)\n"
      ]
    },
    {
      "cell_type": "code",
      "execution_count": null,
      "metadata": {
        "id": "mNoEMtq00znq"
      },
      "outputs": [],
      "source": [
        "circuit //=((1,2),BS()).add(2,PS(phi=pcvl.P(\"phi_11\"))).add((1,2),BS())"
      ]
    },
    {
      "cell_type": "code",
      "execution_count": null,
      "metadata": {
        "id": "uUVSKeM5vKIz"
      },
      "outputs": [],
      "source": [
        "n=8 #Number of decisions= n_edge_grid - 1\n",
        "circuit = pcvl.Circuit(n)\n",
        "for i in range(n)\n",
        "    circuit.add((1,2),BS()).add(2,PS(phi=pcvl.P(\"phi_11\"))).add((1,2),BS())\n"
      ]
    },
    {
      "cell_type": "code",
      "execution_count": null,
      "metadata": {
        "id": "11YA4rAh7uU1"
      },
      "outputs": [],
      "source": [
        "# TASK 1´\n",
        "class Tree():\n",
        "    def __init__(self, n_leaves=4, remote=False,\n",
        "            remote_config={\n",
        "                'processor': 'sim:ascella',\n",
        "                'token': None,\n",
        "                'nshots': 1e5}):\n",
        "\n",
        "        self.n_leaves = n_leaves\n",
        "        self.layers=int(self.n_leaves/2)\n",
        "\n",
        "        # create the tree\n",
        "\n",
        "\n",
        "        self.circuit = pcvl.Circuit(2)\n",
        "        self.circuit.add((0,1),BS()).add(0,PS(phi=pcvl.P(\"phi_1\"))).add((0,1),BS()).add(0,PS(phi=pcvl.P(\"phi_2\")))\n",
        "\n",
        "        for p in self.circuit.get_parameters():\n",
        "             p.set_value(np.pi/4)\n",
        "\n",
        "        # Suggestion: create the indeces for where you should place the LO components\n",
        "        #             add the component to each branch of the tree\n",
        "        # ....\n",
        "\n",
        "        # initialize parameters. This here is kind of random, we suggest initializing them as np.pi/4\n",
        "        # ....\n",
        "\n",
        "        # input state\n",
        "        in_list = [0]*(self.n_leaves)\n",
        "        in_list[self.layers-1] = 1\n",
        "        self.in_state = pcvl.BasicState(in_list)\n",
        "\n",
        "        # flag for remote computation\n",
        "        self.remote = remote\n",
        "        if self.remote:\n",
        "            pass# configure the remote params\n",
        "            # ....\n",
        "        else:\n",
        "            # processor\n",
        "            self.processor = pcvl.Processor('SLOS',self.circuit)\n",
        "\n",
        "        self.processor.with_input(self.in_state)\n",
        "        self.sampler=pcvl.algorithm.Sampler(self.processor)\n",
        "\n",
        "        self.probs = self.compute_pdf()\n",
        "\n",
        "    # post selection function to discard 2 photon events due to g2\n",
        "    def g2_postselect_func(self, s: pcvl.BasicState) -> bool:\n",
        "        counts = np.sum([n for n in s])\n",
        "        if counts !=1:\n",
        "            return False\n",
        "        return True\n",
        "\n",
        "     # take perceval state and return the index of the mode with 1\n",
        "    def stateToModeIdx(self, state):\n",
        "        state_str = str(state)\n",
        "        state_str = state_str.replace(\"|\", \"\")\n",
        "        state_str = state_str.replace(\">\", \"\")\n",
        "        state_str = state_str.split(\",\")\n",
        "        return state_str.index(\"1\")\n",
        "\n",
        "    # perform single photon walk\n",
        "    def sample(self):\n",
        "        return np.random.choice(list(self.probs.keys()), p=list(self.probs.values()))\n",
        "\n",
        "    def compute_pdf(self):\n",
        "        if self.remote:\n",
        "\n",
        "            pass# ....\n",
        "\n",
        "            # postselect\n",
        "            results['results'] = {k: v for k, v in results['results'].items() if self.g2_postselect_func(k)}\n",
        "            tot_samples = np.sum([v for v in results['results'].values()])\n",
        "            probs = {k: v/tot_samples for k, v in results['results'].items()}\n",
        "        else:\n",
        "            probs = self.sampler.probs()[\"results\"]\n",
        "        probs = {self.stateToModeIdx(state): prob for state, prob in probs.items()}\n",
        "        return probs\n",
        "\n",
        "    def pdf(self):\n",
        "        return self.probs\n",
        "\n",
        "    def updateCircuit(self, new_params):\n",
        "\n",
        "        for i,p in enumerate(self.circuit.get_parameters()):\n",
        "          p.set_value(new_params[i])\n",
        "\n",
        "        # update the processor\n",
        "        if self.remote:\n",
        "            self.processor.set_circuit(self.circuit)\n",
        "        else:\n",
        "            self.processor = pcvl.Processor(\"SLOS\", self.circuit)\n",
        "            self.processor.with_input(self.in_state)\n",
        "\n",
        "        self.sampler = Sampler(self.processor)\n",
        "        self.probs = self.compute_pdf()"
      ]
    },
    {
      "cell_type": "code",
      "execution_count": 48,
      "metadata": {
        "id": "hcsODoXE-_7-"
      },
      "outputs": [],
      "source": [
        "#TASK 2\n",
        "\n",
        "class Tree():\n",
        "    def __init__(self, n_leaves=4, remote=False,\n",
        "            remote_config={\n",
        "                'processor': 'sim:ascella',\n",
        "                'token': None,\n",
        "                'nshots': 1e5}):\n",
        "\n",
        "        self.n_leaves = n_leaves\n",
        "        self.layers=int(self.n_leaves/2)\n",
        "\n",
        "        # create the tree\n",
        "\n",
        "\n",
        "        self.circuit = pcvl.Circuit(4)\n",
        "        self.circuit.add((1,2),BS()).add(1,PS(phi=pcvl.P(\"phi_11\"))).add((1,2),BS()).add(1,PS(phi=pcvl.P(\"phi_12\")))\n",
        "        self.circuit.add((0,1),BS()).add(0,PS(phi=pcvl.P(\"phi_21\"))).add((0,1),BS()).add(0,PS(phi=pcvl.P(\"phi_22\")))\n",
        "        self.circuit.add((2,3),BS()).add(2,PS(phi=pcvl.P(\"phi_31\"))).add((2,3),BS()).add(2,PS(phi=pcvl.P(\"phi_32\")))\n",
        "\n",
        "        for p in self.circuit.get_parameters():\n",
        "             p.set_value(np.pi/4)\n",
        "\n",
        "        # Suggestion: create the indeces for where you should place the LO components\n",
        "        #             add the component to each branch of the tree\n",
        "        # ....\n",
        "\n",
        "        # initialize parameters. This here is kind of random, we suggest initializing them as np.pi/4\n",
        "        # ....\n",
        "\n",
        "        # input state\n",
        "\n",
        "        self.in_state = pcvl.BasicState([0,0,1,0])\n",
        "\n",
        "        # flag for remote computation\n",
        "        self.remote = remote\n",
        "        if self.remote:\n",
        "            pass# configure the remote params\n",
        "            # ....\n",
        "        else:\n",
        "            # processor\n",
        "            self.processor = pcvl.Processor('SLOS',self.circuit)\n",
        "\n",
        "        self.processor.with_input(self.in_state)\n",
        "        self.sampler=pcvl.algorithm.Sampler(self.processor)\n",
        "\n",
        "        self.probs = self.compute_pdf()\n",
        "\n",
        "    # post selection function to discard 2 photon events due to g2\n",
        "    def g2_postselect_func(self, s: pcvl.BasicState) -> bool:\n",
        "        counts = np.sum([n for n in s])\n",
        "        if counts !=1:\n",
        "            return False\n",
        "        return True\n",
        "\n",
        "     # take perceval state and return the index of the mode with 1\n",
        "    def stateToModeIdx(self, state):\n",
        "        state_str = str(state)\n",
        "        state_str = state_str.replace(\"|\", \"\")\n",
        "        state_str = state_str.replace(\">\", \"\")\n",
        "        state_str = state_str.split(\",\")\n",
        "        return state_str.index(\"1\")\n",
        "\n",
        "    # perform single photon walk\n",
        "    def sample(self):\n",
        "        return np.random.choice(list(self.probs.keys()), p=list(self.probs.values()))\n",
        "\n",
        "    def compute_pdf(self):\n",
        "        if self.remote:\n",
        "\n",
        "            pass# ....\n",
        "\n",
        "            # postselect\n",
        "            results['results'] = {k: v for k, v in results['results'].items() if self.g2_postselect_func(k)}\n",
        "            tot_samples = np.sum([v for v in results['results'].values()])\n",
        "            probs = {k: v/tot_samples for k, v in results['results'].items()}\n",
        "        else:\n",
        "            probs = self.sampler.probs()[\"results\"]\n",
        "        probs = {self.stateToModeIdx(state): prob for state, prob in probs.items()}\n",
        "        return probs\n",
        "\n",
        "    def pdf(self):\n",
        "        return self.probs\n",
        "\n",
        "    def updateCircuit(self, new_params):\n",
        "\n",
        "        for i,p in enumerate(self.circuit.get_parameters()):\n",
        "          p.set_value(new_params[i])\n",
        "\n",
        "        # update the processor\n",
        "        if self.remote:\n",
        "            self.processor.set_circuit(self.circuit)\n",
        "        else:\n",
        "            self.processor = pcvl.Processor(\"SLOS\", self.circuit)\n",
        "            self.processor.with_input(self.in_state)\n",
        "\n",
        "        self.sampler = Sampler(self.processor)\n",
        "        self.probs = self.compute_pdf()"
      ]
    },
    {
      "cell_type": "markdown",
      "metadata": {
        "id": "FS2PG-p97uU1"
      },
      "source": [
        "Give it a test. A tree with two leaves, this is two options for movement, should output the following cells."
      ]
    },
    {
      "cell_type": "code",
      "execution_count": 49,
      "metadata": {
        "colab": {
          "base_uri": "https://localhost:8080/"
        },
        "id": "uqJQJjoK7uU2",
        "outputId": "cba23524-6e4c-4b15-d56d-bdf8bd7ac299"
      },
      "outputs": [
        {
          "data": {
            "text/plain": [
              "{0: 0.24999999999999994, 1: 0.25, 2: 0.25, 3: 0.25}"
            ]
          },
          "execution_count": 49,
          "metadata": {},
          "output_type": "execute_result"
        }
      ],
      "source": [
        "# tree with SLOS\n",
        "tree = Tree(6)\n",
        "tree.updateCircuit([np.pi/2, np.pi/2, np.pi/2, np.pi/2, np.pi/2, np.pi/2])\n",
        "tree.pdf()"
      ]
    },
    {
      "cell_type": "code",
      "execution_count": 50,
      "metadata": {
        "colab": {
          "base_uri": "https://localhost:8080/",
          "height": 303
        },
        "id": "UKZNCOh67uU3",
        "outputId": "20b409a6-2f1f-48df-cdd4-af55a51eeb73"
      },
      "outputs": [
        {
          "data": {
            "image/svg+xml": [
              "<?xml version=\"1.0\" encoding=\"UTF-8\"?>\n",
              "<svg xmlns=\"http://www.w3.org/2000/svg\" xmlns:xlink=\"http://www.w3.org/1999/xlink\"\n",
              "     width=\"882.5\" height=\"281.25\" viewBox=\"-28.0 0 706.0 225.0\">\n",
              "<defs>\n",
              "</defs>\n",
              "<path d=\"M10,25 L25,25\" stroke-width=\"1\" stroke=\"black\" stroke-linejoin=\"miter\" fill=\"none\" />\n",
              "<path d=\"M10,75 L25,75\" stroke-width=\"1\" stroke=\"black\" stroke-linejoin=\"miter\" fill=\"none\" />\n",
              "<path d=\"M10,125 L25,125\" stroke-width=\"1\" stroke=\"black\" stroke-linejoin=\"miter\" fill=\"none\" />\n",
              "<path d=\"M10,175 L25,175\" stroke-width=\"1\" stroke=\"black\" stroke-linejoin=\"miter\" fill=\"none\" />\n",
              "<path d=\"M37.9442,75.0002 C51.653800000000004,75.0002,51.5923,100.0,65.3019,100.0 M65.3038,100.0 C51.59219999999999,100.0,51.6538,124.9998,37.94409999999999,124.9998 M65.3038,100.0 L87.1884,100.0 M87.1884,100.0 C100.9,100.0,100.83840000000001,75.0002,114.5481,75.0002 M87.1884,100.0 C100.9,100.0,100.83840000000001,124.9998,114.5481,124.9998 M25.0,75.0 L38.0,75.0 M38.0019,124.9998 L25.0,124.9998 M112.6453,124.9998 L125.0,124.9998 M112.1944,74.9998 L125.0,74.9998\" stroke-width=\"1\" stroke=\"black\" stroke-linejoin=\"miter\" fill=\"none\" />\n",
              "<text x=\"75\" y=\"88\" font-size=\"7\" text-anchor=\"middle\"></text>\n",
              "<path d=\"M97,103 L107,103 L107,113 L97,113 Z\" stroke=\"black\" fill=\"thistle\" stroke-linejoin=\"miter\" />\n",
              "<text x=\"102\" y=\"110\" font-size=\"6\" text-anchor=\"middle\">Rx</text>\n",
              "<path d=\"M125,75 L145,75 M155,75 L175,75\" stroke-width=\"1\" stroke=\"black\" stroke-linejoin=\"miter\" fill=\"none\" />\n",
              "<path d=\"M140,85 L160,85 L160,65 L140,65 L140,85\" stroke-width=\"1\" stroke=\"black\" stroke-linejoin=\"miter\" fill=\"lightgray\" />\n",
              "<text x=\"150\" y=\"94\" font-size=\"7\" text-anchor=\"middle\">Φ=pi/2</text>\n",
              "<path d=\"M125,125 L175,125\" stroke=\"black\" stroke-width=\"1\" fill=\"none\" />\n",
              "<path d=\"M187.9442,75.0002 C201.6538,75.0002,201.5923,100.0,215.3019,100.0 M215.3038,100.0 C201.5922,100.0,201.6538,124.9998,187.9441,124.9998 M215.3038,100.0 L237.1884,100.0 M237.1884,100.0 C250.9,100.0,250.8384,75.0002,264.5481,75.0002 M237.18839999999997,100.0 C250.89999999999998,100.0,250.83839999999998,124.9998,264.5481,124.9998 M174.99999999999997,75.0 L187.99999999999997,75.0 M188.00189999999998,124.9998 L174.99999999999997,124.9998 M262.64529999999996,124.9998 L274.99999999999994,124.9998 M262.1944,74.9998 L275.0,74.9998\" stroke-width=\"1\" stroke=\"black\" stroke-linejoin=\"miter\" fill=\"none\" />\n",
              "<text x=\"225\" y=\"88\" font-size=\"7\" text-anchor=\"middle\"></text>\n",
              "<path d=\"M247,103 L257,103 L257,113 L247,113 Z\" stroke=\"black\" fill=\"thistle\" stroke-linejoin=\"miter\" />\n",
              "<text x=\"252\" y=\"110\" font-size=\"6\" text-anchor=\"middle\">Rx</text>\n",
              "<path d=\"M275,75 L295,75 M305,75 L325,75\" stroke-width=\"1\" stroke=\"black\" stroke-linejoin=\"miter\" fill=\"none\" />\n",
              "<path d=\"M290,85 L310,85 L310,65 L290,65 L290,85\" stroke-width=\"1\" stroke=\"black\" stroke-linejoin=\"miter\" fill=\"lightgray\" />\n",
              "<text x=\"300\" y=\"94\" font-size=\"7\" text-anchor=\"middle\">Φ=pi/2</text>\n",
              "<path d=\"M25,25 L325,25\" stroke=\"black\" stroke-width=\"1\" fill=\"none\" />\n",
              "<path d=\"M337.9442,25.0002 C351.65380000000005,25.0002,351.5923,50.0,365.30190000000005,50.0 M365.3038,50.0 C351.59220000000005,50.0,351.65380000000005,74.9998,337.94410000000005,74.9998 M365.3038,49.99999999999999 L387.1884,49.99999999999999 M387.1884,49.99999999999999 C400.9,49.99999999999999,400.8384,25.000199999999992,414.5481,25.000199999999992 M387.1884,49.99999999999999 C400.9,49.99999999999999,400.8384,74.9998,414.5481,74.9998 M325.0,24.999999999999993 L338.0,24.999999999999993 M338.0019,74.9998 L325.0,74.9998 M412.6453,74.9998 L425.0,74.9998 M412.1944,24.999799999999993 L425.0,24.999799999999993\" stroke-width=\"1\" stroke=\"black\" stroke-linejoin=\"miter\" fill=\"none\" />\n",
              "<text x=\"375\" y=\"38\" font-size=\"7\" text-anchor=\"middle\"></text>\n",
              "<path d=\"M397,53 L407,53 L407,63 L397,63 Z\" stroke=\"black\" fill=\"thistle\" stroke-linejoin=\"miter\" />\n",
              "<text x=\"402\" y=\"60\" font-size=\"6\" text-anchor=\"middle\">Rx</text>\n",
              "<path d=\"M425,25 L445,25 M455,25 L475,25\" stroke-width=\"1\" stroke=\"black\" stroke-linejoin=\"miter\" fill=\"none\" />\n",
              "<path d=\"M440,35 L460,35 L460,15 L440,15 L440,35\" stroke-width=\"1\" stroke=\"black\" stroke-linejoin=\"miter\" fill=\"lightgray\" />\n",
              "<text x=\"450\" y=\"44\" font-size=\"7\" text-anchor=\"middle\">Φ=pi/2</text>\n",
              "<path d=\"M425,75 L475,75\" stroke=\"black\" stroke-width=\"1\" fill=\"none\" />\n",
              "<path d=\"M487.9442,25.0002 C501.65380000000005,25.0002,501.5923,50.0,515.3019,50.0 M515.3038,50.0 C501.59220000000005,50.0,501.65380000000005,74.9998,487.94410000000005,74.9998 M515.3038,49.99999999999999 L537.1884,49.99999999999999 M537.1884,49.99999999999999 C550.9,49.99999999999999,550.8384,25.000199999999992,564.5481,25.000199999999992 M537.1884,49.99999999999999 C550.9,49.99999999999999,550.8384,74.9998,564.5481,74.9998 M475.0,24.999999999999993 L488.0,24.999999999999993 M488.0019,74.9998 L475.0,74.9998 M562.6453,74.9998 L575.0,74.9998 M562.1944,24.999799999999993 L575.0,24.999799999999993\" stroke-width=\"1\" stroke=\"black\" stroke-linejoin=\"miter\" fill=\"none\" />\n",
              "<text x=\"525\" y=\"38\" font-size=\"7\" text-anchor=\"middle\"></text>\n",
              "<path d=\"M547,53 L557,53 L557,63 L547,63 Z\" stroke=\"black\" fill=\"thistle\" stroke-linejoin=\"miter\" />\n",
              "<text x=\"552\" y=\"60\" font-size=\"6\" text-anchor=\"middle\">Rx</text>\n",
              "<path d=\"M575,25 L595,25 M605,25 L625,25\" stroke-width=\"1\" stroke=\"black\" stroke-linejoin=\"miter\" fill=\"none\" />\n",
              "<path d=\"M590,35 L610,35 L610,15 L590,15 L590,35\" stroke-width=\"1\" stroke=\"black\" stroke-linejoin=\"miter\" fill=\"lightgray\" />\n",
              "<text x=\"600\" y=\"44\" font-size=\"7\" text-anchor=\"middle\">Φ=pi/2</text>\n",
              "<path d=\"M25,175 L275,175\" stroke=\"black\" stroke-width=\"1\" fill=\"none\" />\n",
              "<path d=\"M287.9442,125.0002 C301.65380000000005,125.0002,301.5923,150.0,315.30190000000005,150.0 M315.3038,150.0 C301.59220000000005,150.0,301.65380000000005,174.9998,287.94410000000005,174.9998 M315.3038,150.0 L337.1884,150.0 M337.1884,150.0 C350.9,150.0,350.8384,125.0002,364.5481,125.0002 M337.1884,150.0 C350.9,150.0,350.8384,174.9998,364.5481,174.9998 M275.0,125.0 L288.0,125.0 M288.0019,174.9998 L275.0,174.9998 M362.6453,174.9998 L375.0,174.9998 M362.1944,124.9998 L375.0,124.9998\" stroke-width=\"1\" stroke=\"black\" stroke-linejoin=\"miter\" fill=\"none\" />\n",
              "<text x=\"325\" y=\"138\" font-size=\"7\" text-anchor=\"middle\"></text>\n",
              "<path d=\"M347,153 L357,153 L357,163 L347,163 Z\" stroke=\"black\" fill=\"thistle\" stroke-linejoin=\"miter\" />\n",
              "<text x=\"352\" y=\"160\" font-size=\"6\" text-anchor=\"middle\">Rx</text>\n",
              "<path d=\"M375,125 L395,125 M405,125 L425,125\" stroke-width=\"1\" stroke=\"black\" stroke-linejoin=\"miter\" fill=\"none\" />\n",
              "<path d=\"M390,135 L410,135 L410,115 L390,115 L390,135\" stroke-width=\"1\" stroke=\"black\" stroke-linejoin=\"miter\" fill=\"lightgray\" />\n",
              "<text x=\"400\" y=\"144\" font-size=\"7\" text-anchor=\"middle\">Φ=pi/2</text>\n",
              "<path d=\"M375,175 L425,175\" stroke=\"black\" stroke-width=\"1\" fill=\"none\" />\n",
              "<path d=\"M437.9442,125.0002 C451.65380000000005,125.0002,451.5923,150.0,465.30190000000005,150.0 M465.3038,150.0 C451.59220000000005,150.0,451.65380000000005,174.9998,437.94410000000005,174.9998 M465.3038,150.0 L487.1884,150.0 M487.1884,150.0 C500.9,150.0,500.8384,125.0002,514.5481,125.0002 M487.1884,150.0 C500.9,150.0,500.8384,174.9998,514.5481,174.9998 M425.0,125.0 L438.0,125.0 M438.0019,174.9998 L425.0,174.9998 M512.6453,174.9998 L525.0,174.9998 M512.1944,124.9998 L525.0,124.9998\" stroke-width=\"1\" stroke=\"black\" stroke-linejoin=\"miter\" fill=\"none\" />\n",
              "<text x=\"475\" y=\"138\" font-size=\"7\" text-anchor=\"middle\"></text>\n",
              "<path d=\"M497,153 L507,153 L507,163 L497,163 Z\" stroke=\"black\" fill=\"thistle\" stroke-linejoin=\"miter\" />\n",
              "<text x=\"502\" y=\"160\" font-size=\"6\" text-anchor=\"middle\">Rx</text>\n",
              "<path d=\"M525,125 L545,125 M555,125 L575,125\" stroke-width=\"1\" stroke=\"black\" stroke-linejoin=\"miter\" fill=\"none\" />\n",
              "<path d=\"M540,135 L560,135 L560,115 L540,115 L540,135\" stroke-width=\"1\" stroke=\"black\" stroke-linejoin=\"miter\" fill=\"lightgray\" />\n",
              "<text x=\"550\" y=\"144\" font-size=\"7\" text-anchor=\"middle\">Φ=pi/2</text>\n",
              "<path d=\"M575,75 L625,75\" stroke=\"black\" stroke-width=\"1\" fill=\"none\" />\n",
              "<path d=\"M575,125 L625,125\" stroke=\"black\" stroke-width=\"1\" fill=\"none\" />\n",
              "<path d=\"M525,175 L625,175\" stroke=\"black\" stroke-width=\"1\" fill=\"none\" />\n",
              "<path d=\"M625,25 L640,25\" stroke-width=\"1\" stroke=\"black\" stroke-linejoin=\"miter\" fill=\"none\" />\n",
              "<path d=\"M625,75 L640,75\" stroke-width=\"1\" stroke=\"black\" stroke-linejoin=\"miter\" fill=\"none\" />\n",
              "<path d=\"M625,125 L640,125\" stroke-width=\"1\" stroke=\"black\" stroke-linejoin=\"miter\" fill=\"none\" />\n",
              "<path d=\"M625,175 L640,175\" stroke-width=\"1\" stroke=\"black\" stroke-linejoin=\"miter\" fill=\"none\" />\n",
              "<text x=\"650\" y=\"28\" font-size=\"6\" text-anchor=\"end\">0</text>\n",
              "<text x=\"650\" y=\"78\" font-size=\"6\" text-anchor=\"end\">1</text>\n",
              "<text x=\"650\" y=\"128\" font-size=\"6\" text-anchor=\"end\">2</text>\n",
              "<text x=\"650\" y=\"178\" font-size=\"6\" text-anchor=\"end\">3</text>\n",
              "<text x=\"0\" y=\"28\" font-size=\"6\" text-anchor=\"start\">0</text>\n",
              "<text x=\"0\" y=\"78\" font-size=\"6\" text-anchor=\"start\">1</text>\n",
              "<text x=\"0\" y=\"128\" font-size=\"6\" text-anchor=\"start\">2</text>\n",
              "<text x=\"0\" y=\"178\" font-size=\"6\" text-anchor=\"start\">3</text>\n",
              "</svg>"
            ],
            "text/plain": [
              "<drawsvg.drawing.Drawing at 0x79e393271f30>"
            ]
          },
          "execution_count": 50,
          "metadata": {},
          "output_type": "execute_result"
        }
      ],
      "source": [
        "pcvl.pdisplay(tree.circuit)"
      ]
    },
    {
      "cell_type": "markdown",
      "metadata": {
        "id": "elZ_xDS97uU4"
      },
      "source": [
        "### Loss function\n",
        "\n",
        "The loss function is fully implemented here and, in principle, you don't need to change anything even when adding constraints for bonus points. You can use it directly, no changes needed.\n",
        "\n",
        "For details on how it is constructed, check the references from the challenge file."
      ]
    },
    {
      "cell_type": "code",
      "execution_count": 59,
      "metadata": {
        "id": "YTBLIZDx7uU5"
      },
      "outputs": [],
      "source": [
        " # initialize vector delta_k to a bernoulli +-1 distribution of size n_params\n",
        "def bernoulli_delta(n_params, p=0.5):\n",
        "    delta_k = np.random.binomial(1, p, n_params)\n",
        "    delta_k[delta_k==0] = -1\n",
        "    return delta_k"
      ]
    },
    {
      "cell_type": "code",
      "execution_count": 76,
      "metadata": {
        "id": "5b-YQLzC7uU6"
      },
      "outputs": [],
      "source": [
        "def phase_loss(tree):\n",
        "    u = np.array(tree.circuit.compute_unitary())\n",
        "    input = np.array([3, 2, 1, 0])\n",
        "    output = np.dot(u, input)\n",
        "    out_phases = np.angle(output)\n",
        "    return np.sum(np.abs(out_phases))"
      ]
    },
    {
      "cell_type": "code",
      "execution_count": 77,
      "metadata": {
        "id": "mavcC8Et7uU7"
      },
      "outputs": [],
      "source": [
        "def tree_loss(params, probs, actions, rewards, c=0.1, delta_k = None, log=False):\n",
        "\n",
        "    # shift params\n",
        "    if delta_k is not None:\n",
        "        tree.updateCircuit(params+c*delta_k)\n",
        "        \"\"\"\n",
        "        for i, p in enumerate(tree.circuit.get_parameters()):\n",
        "            p.set_value(params[i]+c*delta_k[i])\n",
        "        \"\"\"\n",
        "    pdf_dict = tree.pdf()\n",
        "    next_probs = np.array([pdf_dict[action] for action in actions])\n",
        "    # compute the expected next step probabilities given the reward\n",
        "    relu = lambda x: np.maximum(x, 0)\n",
        "    expected_probs = 1-relu(1-relu(rewards + probs))\n",
        "    # compute the loss with KL divergence of both (next_probs, expected_probs) and (1-next_probs, 1-expected_probs) since the two are not normalized\n",
        "    # regularization is added to avoid Nan values\n",
        "    regHigh = 1+1e-5\n",
        "    regLow = 1e-5\n",
        "    loss = np.sum(next_probs*np.log((next_probs+regLow)/(expected_probs+regLow))+ (1-next_probs)*np.log((regHigh-next_probs)/(regHigh-expected_probs)))\n",
        "    # add shannon loss\n",
        "    if log:\n",
        "        return loss, phase_loss(tree)\n",
        "    loss += phase_loss(tree)\n",
        "    return loss"
      ]
    },
    {
      "cell_type": "code",
      "execution_count": 78,
      "metadata": {
        "id": "YK0e3KS27uU8"
      },
      "outputs": [],
      "source": [
        "def middle_spsa_step(params, loss_fun, tree, actions, rewards, delta_k, c=0.1):\n",
        "    grads = []\n",
        "    # compute loss for positive and negative perturbation\n",
        "    # current probs\n",
        "    pdf_dict = tree.pdf()\n",
        "    probs = np.array([pdf_dict[action] for action in actions])\n",
        "    loss_plus = loss_fun(params, probs, actions, rewards, c, delta_k)\n",
        "    loss_minus = loss_fun(params, probs, actions, rewards, -c, delta_k)\n",
        "    for i in range(len(params)):\n",
        "        grads.append((loss_plus-loss_minus)/(2*c*delta_k[i]))\n",
        "    return grads"
      ]
    },
    {
      "cell_type": "markdown",
      "metadata": {
        "id": "TqGwcLpp7uU9"
      },
      "source": [
        "#### Combining the grid, circuit and loss function to train the model\n",
        "\n",
        "Here is where everything comes together to train our agent.\n",
        "Let's start with the grid. Try to test your circuit implementation with the following grid. You can use a simpler one, specially when testing constraints."
      ]
    },
    {
      "cell_type": "code",
      "execution_count": 79,
      "metadata": {
        "colab": {
          "base_uri": "https://localhost:8080/",
          "height": 406
        },
        "id": "PpS91ngw7uU9",
        "outputId": "34adb449-4af5-4e2f-c6e8-54af4727e1d5"
      },
      "outputs": [
        {
          "data": {
            "image/png": "[encoded data removed]",
            "text/plain": [
              "<Figure size 640x480 with 1 Axes>"
            ]
          },
          "metadata": {},
          "output_type": "display_data"
        }
      ],
      "source": [
        "grid_5x5 = Grid(5, n_not_allowed=5, wall=first_wall, max_steps=15)\n",
        "grid_5x5.render()"
      ]
    },
    {
      "cell_type": "markdown",
      "metadata": {
        "id": "hh6RMD9B7uU-"
      },
      "source": [
        "Defining \"tree_params\". It starts with some probability for the choices for each state. The goal is to make it learn and update these parameters based on the rewards."
      ]
    },
    {
      "cell_type": "code",
      "execution_count": 80,
      "metadata": {
        "id": "H3nDRyxK7uU-"
      },
      "outputs": [],
      "source": [
        "tree_params = {\n",
        "    # is a dict with an empy list for each position tuple in the grid excluded final state and walls\n",
        "    state: [np.pi/2]*len(tree.circuit.get_parameters()) for state in grid_5x5.av_states\n",
        "}"
      ]
    },
    {
      "cell_type": "code",
      "execution_count": 81,
      "metadata": {
        "id": "j0ipn8i-7uU-"
      },
      "outputs": [],
      "source": [
        "key_to_action = {\n",
        "    0: 'right',\n",
        "    1: 'up',\n",
        "    2: 'left',\n",
        "    3: 'down'}\n",
        "action_to_key = {\n",
        "    'right': 0,\n",
        "    'up': 1,\n",
        "    'left' :2,\n",
        "    'down' :3}"
      ]
    },
    {
      "cell_type": "markdown",
      "metadata": {
        "id": "uQV9pB8G7uU_"
      },
      "source": [
        "The cell that does the magic :D\n",
        "\n",
        "Here, the training happens!"
      ]
    },
    {
      "cell_type": "code",
      "execution_count": 110,
      "metadata": {
        "colab": {
          "base_uri": "https://localhost:8080/",
          "height": 49,
          "referenced_widgets": [
            "7e59566327d24a2dbedf417286d485ee",
            "28fb880b96554c9e8ca9f2adf002dad6",
            "1f385b3d9d7647028b6e01f1ee6d0ab2",
            "b8879dfdc09d424db323867f0a5d34af",
            "275141211fe24d13a7bc9632a07cfcf6",
            "d52d06af282d4c678e8552186f608438",
            "387850914efe4a9f8e4f0712a805a995",
            "5be445bfafe849658d80d25c16bfb9f0",
            "b4f355d0d05f4e3cb7041f58ac8cf462",
            "190ea2a7b2de4281a225e7faa9e472ec",
            "e12f457f067c4825ae0e2fe883e7affd"
          ]
        },
        "id": "TzpJt-l57uU_",
        "outputId": "c27dafd9-4bb3-4bad-bd11-06da74d1f658"
      },
      "outputs": [
        {
          "data": {
            "application/vnd.jupyter.widget-view+json": {
              "model_id": "7e59566327d24a2dbedf417286d485ee",
              "version_major": 2,
              "version_minor": 0
            },
            "text/plain": [
              "  0%|          | 0/200 [00:00<?, ?it/s]"
            ]
          },
          "metadata": {},
          "output_type": "display_data"
        }
      ],
      "source": [
        "n_episodes = 200\n",
        "score = []\n",
        "paths = []\n",
        "good_path=[]\n",
        "counter = 0\n",
        "for i in tqdm(range(n_episodes)):\n",
        "    lr = 0.1\n",
        "    # reset grid\n",
        "    grid_5x5.reset()\n",
        "    rewards = []\n",
        "    actions = []\n",
        "    while not grid_5x5.done:\n",
        "        state = grid_5x5.state          # get current state\n",
        "        params = tree_params[state]     # get current params\n",
        "        tree.updateCircuit(params)      # update tree\n",
        "        # sample action\n",
        "        action = key_to_action[tree.sample()]\n",
        "        next_state, reward, done = grid_5x5.step(action)\n",
        "        rewards.append(reward/10)       # save reward\n",
        "    # compute gradients for each position seen\n",
        "    #print(grid_5x5.state, rewards[-1]) # print final state and final reward\n",
        "    actions = [action_to_key[action] for action in grid_5x5.path_actions]\n",
        "\n",
        "    if grid_5x5.state == grid_5x5.end:\n",
        "        counter += 1\n",
        "        good_path.append(i)\n",
        "    for i, state in enumerate(grid_5x5.total_path[:-1]):\n",
        "        params = tree_params[state]\n",
        "        delta_k = bernoulli_delta(len(params))\n",
        "        tree.updateCircuit(params)\n",
        "        # compute distance last state to end\n",
        "        dist_to_end = np.linalg.norm(np.array(state)-np.array(grid_5x5.end))\n",
        "        reg = 1e-5\n",
        "        grads = middle_spsa_step(params, tree_loss, tree, [actions[i]], [(rewards[-1] + rewards[i])/(dist_to_end+reg)], delta_k)\n",
        "        # update params\n",
        "        tree_params[state] = [p-lr*g for p, g in zip(params, grads)]\n",
        "        tree.updateCircuit(tree_params[state])\n",
        "\n",
        "    score.append(np.linalg.norm(np.array(grid_5x5.total_path[-1])-np.array(grid_5x5.end)))\n",
        "\n",
        "    paths.append(grid_5x5.total_path)   # save path"
      ]
    },
    {
      "cell_type": "code",
      "execution_count": 112,
      "metadata": {
        "colab": {
          "base_uri": "https://localhost:8080/"
        },
        "id": "x5XPKtdx7uVA",
        "outputId": "75b11053-0b2b-4c28-bb52-4bb8ef7d317f"
      },
      "outputs": [
        {
          "data": {
            "text/plain": [
              "[1, 10, 74, 127]"
            ]
          },
          "execution_count": 112,
          "metadata": {},
          "output_type": "execute_result"
        }
      ],
      "source": [
        "good_path"
      ]
    },
    {
      "cell_type": "markdown",
      "metadata": {
        "id": "r2eMyG337uVA"
      },
      "source": [
        "You can see the probabilities of selecting each action for each cell of the grid (we printed it) or you can also plot the path (commented part)."
      ]
    },
    {
      "cell_type": "code",
      "execution_count": 118,
      "metadata": {
        "colab": {
          "base_uri": "https://localhost:8080/"
        },
        "id": "g7pU6U2p7uVB",
        "outputId": "5ba3e397-4856-40ea-93be-bed9cc812a13"
      },
      "outputs": [
        {
          "name": "stdout",
          "output_type": "stream",
          "text": [
            "(0, 0) {0: 0.058609847424252785, 1: 0.7451160490746916, 2: 0.008698054481641496, 3: 0.1875760490194141}\n",
            "(0, 1) {0: 0.19088715588534946, 1: 0.5827115057879869, 2: 0.22451624001732537, 3: 0.0018850983093382566}\n",
            "(0, 2) {0: 0.0026052039473127447, 1: 0.811853646179261, 2: 0.07846845608016226, 3: 0.10707269379326392}\n",
            "(0, 3) {0: 0.685221202791253, 1: 0.311468859075815, 2: 0.003207062079685345, 3: 0.00010287605324660452}\n",
            "(0, 4) {0: 0.004639166852202773, 1: 0.01215574134855474, 2: 0.05378727314028371, 3: 0.9294178186589588}\n",
            "(1, 1) {0: 0.24479453239155388, 1: 0.594432147232991, 2: 0.00934146725966497, 3: 0.15143185311579016}\n",
            "(1, 3) {0: 0.0017792399752739984, 1: 0.0006779559892278468, 2: 0.9407133703245574, 3: 0.056829433710940694}\n",
            "(1, 4) {0: 0.4192499484528779, 1: 0.0853064309458701, 2: 0.45819753456072515, 3: 0.03724608604052676}\n",
            "(2, 0) {0: 0.03544278688067375, 1: 0.8952865375077473, 2: 0.04457410902090553, 3: 0.024696566590673437}\n",
            "(2, 1) {0: 0.016341143550363417, 1: 0.030371521852525358, 2: 0.7022668133151218, 3: 0.25102052128198943}\n",
            "(2, 3) {0: 0.9600753075374505, 1: 0.03906036669461709, 2: 0.0006343712751568123, 3: 0.00022995449277552502}\n",
            "(3, 0) {0: 0.03044055558878831, 1: 0.255214540051975, 2: 0.5678018068407747, 3: 0.14654309751846195}\n",
            "(3, 1) {0: 0.0021860505617677336, 1: 0.015542677458890155, 2: 0.03294251986361844, 3: 0.9493287521157237}\n",
            "(3, 3) {0: 0.0055147361989894145, 1: 0.9802152798682024, 2: 0.0034486965867751534, 3: 0.010821287346032918}\n",
            "(3, 4) {0: 0.9976824967572026, 1: 0.0007771712706292552, 2: 0.0010094635312918997, 3: 0.0005308684408762645}\n",
            "(4, 0) {0: 0.40818913592941203, 1: 0.2247821920960498, 2: 0.3669760918558829, 3: 5.258011865525231e-05}\n",
            "(4, 1) {0: 0.0016494912944745085, 1: 0.0017766167825321486, 2: 0.9095698384126393, 3: 0.08700405351035417}\n",
            "(4, 2) {0: 0.3734202965049247, 1: 0.006093290412864222, 2: 0.23399647547167068, 3: 0.3864899376105405}\n",
            "(4, 3) {0: 0.06887055107925745, 1: 0.019394960936221957, 2: 0.16303425602652316, 3: 0.7487002319579974}\n"
          ]
        }
      ],
      "source": [
        "# print each tree key and pdf\n",
        "for key, params in tree_params.items():\n",
        "    tree.updateCircuit(params)\n",
        "    print(key, tree.pdf())\n",
        "\n",
        "# find index where path not completed\n",
        "#for i, path in enumerate(paths):\n",
        "#    if len(path) < 10:\n",
        "#        print(i, path)"
      ]
    },
    {
      "cell_type": "code",
      "execution_count": 119,
      "metadata": {
        "colab": {
          "base_uri": "https://localhost:8080/",
          "height": 406
        },
        "id": "crquxC7x7uVB",
        "outputId": "e6c93bc4-9ef9-4435-b94f-a9f33bf4f81a"
      },
      "outputs": [
        {
          "data": {
            "image/png": "[encoded data removed]",
            "text/plain": [
              "<Figure size 640x480 with 1 Axes>"
            ]
          },
          "metadata": {},
          "output_type": "display_data"
        }
      ],
      "source": [
        "# visualization after selecting a good path.\n",
        "grid_5x5.render(paths[2])"
      ]
    }
  ],
  "metadata": {
    "colab": {
      "provenance": []
    },
    "interpreter": {
      "hash": "765bd6793ea5362367183dba09c599ce34c84eeeb7f3172847d560f9d0858670"
    },
    "kernelspec": {
      "display_name": "Python 3.9.12 ('base')",
      "language": "python",
      "name": "python3"
    },
    "language_info": {
      "codemirror_mode": {
        "name": "ipython",
        "version": 3
      },
      "file_extension": ".py",
      "mimetype": "text/x-python",
      "name": "python",
      "nbconvert_exporter": "python",
      "pygments_lexer": "ipython3",
      "version": "3.9.12"
    },
    "orig_nbformat": 4
  },
  "nbformat": 4,
  "nbformat_minor": 0
}
